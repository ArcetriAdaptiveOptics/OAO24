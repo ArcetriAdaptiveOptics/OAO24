{
 "cells": [
  {
   "cell_type": "markdown",
   "metadata": {},
   "source": [
    "# 2. AO Performance Estimation: Resolution\n",
    "\n",
    "In this section, we will assess the performance of an adaptive optics system by analysing the point spread function (PSF) obtained during closed-loop operation. The PSF is a key indicator of image quality and its characteristics allow us to assess the effectiveness of the AO correction. \n",
    "\n",
    "The Full Width at Half Maximum (FWHM) of the PSF is a widely used metric to quantify the sharpness of an image and therefore the performance of the AO system. Ideally, an AO system should produce a narrow PSF, representing a well-corrected, with a FWHM on sky close to a diffraction-limited system:\n",
    "$$\n",
    "\\text{FWHM}_{dl} \\simeq \\frac{\\lambda}{D_{pupil}}\n",
    "$$\n",
    "where $\\lambda$ is the wavelength and $D_{pupil}$ is the telescope pupil diameter.\n",
    "\n",
    "In the following tutorial, we will estimate the FWHM of the closed loop reduced data of *Beta Pegasi* to check the performace of the AO system. We remaind that the data has been collected with PAPYRUS NIR imager camera [C-RED3](https://andor.oxinst.com/products/c-red-series/c-red-3) camera.\n",
    "\n",
    "Let's start by loading the needed modules and quickly the reduced the closed loop PSF image from the observations as in the previous section."
   ]
  },
  {
   "cell_type": "code",
   "execution_count": null,
   "metadata": {},
   "outputs": [],
   "source": [
    "!pip uninstall -y oao24\n",
    "!pip install git+https://github.com/ArcetriAdaptiveOptics/OAO24.git"
   ]
  },
  {
   "cell_type": "code",
   "execution_count": 2,
   "metadata": {},
   "outputs": [],
   "source": [
    "import numpy as np\n",
    "import matplotlib.pyplot as plt\n",
    "from astropy.modeling import models, fitting\n",
    "from oao24.package_data import InfraredExampleData, VisibleExampleData\n",
    "from oao24 import image_processing"
   ]
  },
  {
   "cell_type": "code",
   "execution_count": null,
   "metadata": {},
   "outputs": [],
   "source": [
    "# backgroud reduction of closed-loop psf data\n",
    "background_image = InfraredExampleData.get_camera_dark_data()\n",
    "cl_raw_image_cube = InfraredExampleData.get_close_loop_data_cube()\n",
    "ao_image = image_processing.make_master_image(cl_raw_image_cube, background_image)"
   ]
  },
  {
   "cell_type": "markdown",
   "metadata": {},
   "source": [
    "## 2.1 Pixel scale and Diffraction limited FWHM\n",
    "\n",
    "In this cell, we calculate the expected diffraction-limited PSF FWHM from the nominal parameters for the NIR observations.\n",
    "\n",
    "We reimnd the following paramters for the T152 telescope and C-RED3 camera:\n",
    "\n",
    "- **Pupil Diameter** ($D_{pupil}$): 1.52 m (on the Calibration Unit, on sky is reduced by $\\sim10\\%$)\n",
    "- **Circual Obstruction** : $33\\%$ of M1 size\n",
    "- **Telescope F-number** ($F/\\#$): 23\n",
    "- **Wavelength** ($\\lambda$): 1.55-1.65 µm (on sky)\n",
    "- **C-Red3 Pixel Size**: 15 µm\n",
    "\n",
    "  \n",
    "We can calculate the **pixel scale** in arcseconds per pixel as:\n",
    "\n",
    "$$\n",
    "\\text{Pixel Scale (arcsec/pixel)} = \\frac{\\text{Pixel Size (meters)}}{\\text{Telescope Focal Length (meters)}} \\times \\frac{180 \\times 3600}{\\pi}\n",
    "$$\n",
    "\n",
    "\n",
    "While, the FWHM of the diffraction-limited PSF on sky is given by:\n",
    "\n",
    "$$\n",
    "\\text{FWHM (arcsec)}_{dl} = \\frac{\\lambda}{D_{pupil}} \\times \\frac{180 \\times 3600}{\\pi}\n",
    "$$\n"
   ]
  },
  {
   "cell_type": "code",
   "execution_count": 12,
   "metadata": {},
   "outputs": [
    {
     "name": "stdout",
     "output_type": "stream",
     "text": [
      "C-Red3 pixel scale: 0.0885003 arcsec/pixel\n",
      "DL PSF size: 0.210336 arcsec\n",
      "DL PSF size: 2.37667 pixels\n"
     ]
    }
   ],
   "source": [
    "RAD2ARCSEC=180/np.pi*3600\n",
    "pupil_diameter = 1.52 \n",
    "wavelength = 1.55e-6   \n",
    "# Plate scale is typically saved in the FITS image header\n",
    "# or it can be calibrated using 2 sources of known distance\n",
    "# Here we use the Papyrus nominal optical design values\n",
    "# F/# = 23\n",
    "# The DL PSF size in m on the focal is F/H * wavelength\n",
    "cred3_pixel_in_meter = 15e-6\n",
    "f_number =  23\n",
    "telescope_focal_length = f_number * pupil_diameter\n",
    "# so the size of the pixel in arcsec is \n",
    "pixel_scale_in_arcsec =cred3_pixel_in_meter / telescope_focal_length * RAD2ARCSEC \n",
    "\n",
    "# the DL size (=lambda/D) in units of arcsec or pixels are therefore\n",
    "dl_size_in_arcsec = wavelength / pupil_diameter * RAD2ARCSEC \n",
    "dl_size_in_pixels = dl_size_in_arcsec / pixel_scale_in_arcsec\n",
    "\n",
    "print(\"C-Red3 pixel scale: %g arcsec/pixel\" % pixel_scale_in_arcsec)\n",
    "print(\"DL PSF size: %g arcsec\" % dl_size_in_arcsec)\n",
    "print(\"DL PSF size: %g pixels\" % dl_size_in_pixels)"
   ]
  },
  {
   "cell_type": "markdown",
   "metadata": {},
   "source": [
    "## 2.2 Closed-loop PSF fitting and FWHM estimation\n",
    "\n",
    "In this step, we select a **region of interest (ROI)** from the science image (i.e. closed-loop image) that focuses on the star image. The aim is to isolate the target star from the surrounding background sky and other sources in the field.\n",
    "\n",
    "This is important to minimise the influence of noisy sources that of the signal of interest: the ROI should be large enough to capture the full extent of the PSF, but not so large that the background weights the fit."
   ]
  },
  {
   "cell_type": "code",
   "execution_count": 5,
   "metadata": {},
   "outputs": [],
   "source": [
    "# We work on a roi of the science image with the star image centered in the field\n",
    "star_roi = ao_image[240:296, 335:391]\n",
    "star_roi_cut_index = (29, slice(15, 45))"
   ]
  },
  {
   "cell_type": "markdown",
   "metadata": {},
   "source": [
    "Once our ROI is defined, we can start simple with a Gaussian fit using the model `Gaussian2D` in **astropy** (see [2D Models](https://docs.astropy.org/en/latest/modeling/predef_models2D.html) for more ditails).\n",
    "\n",
    "Remind the relation between the gaussian standard deviation $\\sigma$ and $\\text{FWHM}$: $\\text{FWHM} = 2 \\sigma \\sqrt{2 ln2}$"
   ]
  },
  {
   "cell_type": "code",
   "execution_count": 6,
   "metadata": {},
   "outputs": [],
   "source": [
    "\n",
    "amp = star_roi.max()\n",
    "x0 = np.where(star_roi == star_roi.max())[1][0]\n",
    "y0 = np.where(star_roi == star_roi.max())[0][0]\n",
    "sigma_x = 2.5/(2*np.sqrt(2*np.log(2)))\n",
    "sigma_y = sigma_x\n",
    "\n",
    "model_gauss = models.Gaussian2D(amp, x0, y0, sigma_x, sigma_y)\n",
    "\n",
    "fitter = fitting.LevMarLSQFitter()\n",
    "\n",
    "roi_shape = star_roi.shape\n",
    "y, x = np.mgrid[:roi_shape[0], :roi_shape[1]]\n",
    "\n",
    "best_fit_gauss = fitter(model_gauss, x, y, z = star_roi)\n",
    "psf_residual_gauss= best_fit_gauss(x,y)-star_roi"
   ]
  },
  {
   "cell_type": "markdown",
   "metadata": {},
   "source": [
    "We can define a function like `display_psf_fit`, to show and check the residuals from the Gaussian best fit."
   ]
  },
  {
   "cell_type": "code",
   "execution_count": 7,
   "metadata": {},
   "outputs": [],
   "source": [
    "def display_psf_fit(star_roi, best_fit, psf_residual, star_roi_cut_index, label_fit):\n",
    "    plt.figure()\n",
    "    plt.imshow(star_roi)\n",
    "    plt.colorbar()\n",
    "    plt.title('PSF')\n",
    "\n",
    "    plt.figure()\n",
    "    plt.imshow(psf_residual)\n",
    "    plt.colorbar()\n",
    "    plt.title('PSF fitting residual (PSF-%s) std %g' % (label_fit, psf_residual.std())) \n",
    "\n",
    "    plt.figure()\n",
    "    plt.plot(best_fit(x,y)[star_roi_cut_index], label=label_fit)\n",
    "    plt.plot(star_roi[star_roi_cut_index], label='PSF')\n",
    "    plt.plot(psf_residual[star_roi_cut_index], label='PSF fitting residual')\n",
    "    plt.legend()"
   ]
  },
  {
   "cell_type": "code",
   "execution_count": null,
   "metadata": {},
   "outputs": [],
   "source": [
    "# displaying gaussian best fit results\n",
    "display_psf_fit(star_roi, best_fit_gauss, psf_residual_gauss, star_roi_cut_index, 'Gaussian fit')"
   ]
  },
  {
   "cell_type": "markdown",
   "metadata": {},
   "source": [
    "We can repeat with a `Moffat2D` (see [2D Models](https://docs.astropy.org/en/latest/modeling/predef_models2D.html) for more ditails) model and compare the results with the Gaussian ones. \n",
    "\n",
    "It is important to note that the **Moffat model** is commonly used to fit the PSF in **seeing-limited conditions**, as it provides a better representation of the extended wings of the PSF compared to other models like the Gaussian. This makes it particularly effective for fitting the broader distribution caused by atmospheric turbulence, offering a more accurate fit to the PSF's outer regions."
   ]
  },
  {
   "cell_type": "code",
   "execution_count": null,
   "metadata": {},
   "outputs": [],
   "source": [
    "model_moffat = models.Moffat2D(amp, x0, y0, 2.5)\n",
    "best_fit_moffat = fitter(model_moffat, x, y, z = star_roi)\n",
    "psf_residual_moffat= best_fit_moffat(x,y)-star_roi\n",
    "\n",
    "display_psf_fit(star_roi, best_fit_moffat, psf_residual_moffat, star_roi_cut_index, 'Moffat fit')"
   ]
  },
  {
   "cell_type": "markdown",
   "metadata": {},
   "source": [
    "We can now compare the Gaussian and Moffat fitting models results:"
   ]
  },
  {
   "cell_type": "code",
   "execution_count": null,
   "metadata": {},
   "outputs": [],
   "source": [
    "plt.figure()\n",
    "plt.plot(best_fit_gauss(x,y)[star_roi_cut_index], label='Gaussian fit')\n",
    "plt.plot(best_fit_moffat(x,y)[star_roi_cut_index], label='Moffat fit')\n",
    "plt.plot(star_roi[star_roi_cut_index], label='PSF')\n",
    "plt.plot(psf_residual_gauss[star_roi_cut_index], label='Gaussian residual')\n",
    "plt.plot(psf_residual_moffat[star_roi_cut_index], label='Moffat residual')\n",
    "plt.legend()"
   ]
  },
  {
   "cell_type": "markdown",
   "metadata": {},
   "source": [
    "and get the estimated FWHM from the best fitting models:"
   ]
  },
  {
   "cell_type": "code",
   "execution_count": null,
   "metadata": {},
   "outputs": [],
   "source": [
    "###\n",
    "# convert sigma to FWHM!\n",
    "# average major and minor axis of the Gaussian\n",
    "# convert from px to arcsec using the plate scale (given or calibrated)\n",
    "#\n",
    "# Advanced: PSF ellipticity can tell you something about anisoplanatism, residual astigmatism, wind direction, ...\n",
    "###\n",
    "\n",
    "fwhm_gaussian_fit_px = np.mean(best_fit_gauss.parameters[3:5]*(2*np.sqrt(2*np.log(2))))\n",
    "fwhm_gaussian_fit_arcsec = fwhm_gaussian_fit_px * pixel_scale_in_arcsec\n",
    "print('FWHM from Gaussian fit %g arcsec' % (fwhm_gaussian_fit_arcsec))\n",
    "\n",
    "###\n",
    "# compute FWHM for the Moffat\n",
    "# convert from px to arcsec using the plate scale (given or calibrated)\n",
    "###\n",
    "\n",
    "fwhm_moffat_fit_px  = best_fit_moffat.parameters[3] * 2\n",
    "fwhm_moffat_fit_arcsec = fwhm_moffat_fit_px * pixel_scale_in_arcsec\n",
    "print('FWHM from Moffat fit %g arcsec' % fwhm_moffat_fit_arcsec)\n",
    "print('DL FWHM %g arcsec' % dl_size_in_arcsec) \n"
   ]
  },
  {
   "cell_type": "markdown",
   "metadata": {},
   "source": [
    "## 2.3 Warnings\n",
    "As usual, we keep it too easy :-) ! \n",
    "\n",
    "We need to keep in mind the following aspects, when we discuss about open and closed-loop PSFs.\n",
    "\n",
    "- **Selecting the PSF Model**: as the closed-loop data seems to have a high AO correction, the actual PSF looks more like an **Airy disk** diffraction pattern ruther than a Gaussian or a Moffat. Thus, fitting these models, as we did so far, may underestimate or poorly fit the closed loop PSF, especially in the wings, and lead to significant residuals. On the other side, as we mention before, in open-loop condition a Moffat model better fits the broader PSF shape due atmospheric turbulence.\n",
    "\n",
    "- **Telescope pupil**: so far we considered circular pupil apertures for our fitting models. However, telescope pupils are far from beeing perfectly circular due to the presence of spider that supports the mirror in the optical train, which obscure and block portions of the pupil.\n",
    "\n",
    "- **PSF ellipcity**: in the fitting models considered in this section, the PSF model is assumed to be radially symmetric. However, the PSF ellipcity can provide valuable insights into several aspects of the optical system and atmosphere. Particularly, the  the elongation and asymmetry of the PSF is related to:\n",
    "    - **anisoplanatism**, as the angular distance between the guide star and the science target increases;\n",
    "    - **residual astigmatism**, due imperfect ao correction of the turbulence or NCPA;\n",
    "    - **wind direction**, that causes elongation or smearing of the PSF due to differential refraction in the atmosphere along the wind direction.\n",
    "\n",
    "## 2.4 Task and Questions\n",
    "\n",
    "It's your turn again :-) ! Can you improve the FWHM estimation and minimize the residual by selecting different fitting models and weighting the data?\n",
    "\n",
    "Particularly,\n",
    "\n",
    "1. Repeat the fit with Airy diffraction pattern with the **astropy** model `AiryDisk2D` (see [2D Models](https://docs.astropy.org/en/latest/modeling/predef_models2D.html) for more ditails).\n",
    "\n",
    "2. Advanced: can you improve the fit using a better T152 pupil model? \n",
    "\n",
    "3. Repeat the same analysis for the Visible image (Hint: use `VisibleExampleData.get_close_loop_data_cube()` defined in `image_processing.py`and rember to update wavelengths the other parameters for the ORCA Flash 4.0 V2 camera manufactured by Hamamatsu -  6.5um/px, 800nm TBC)\n",
    "\n",
    "4. Estimate the seeing on open-loop (NB: the open loop examples images in IR and VIS are not good enough, seeing is conventionaly defined in the VIS, need to be rescaled to the observed wavelength).\n"
   ]
  }
 ],
 "metadata": {
  "kernelspec": {
   "display_name": "trash",
   "language": "python",
   "name": "python3"
  },
  "language_info": {
   "codemirror_mode": {
    "name": "ipython",
    "version": 3
   },
   "file_extension": ".py",
   "mimetype": "text/x-python",
   "name": "python",
   "nbconvert_exporter": "python",
   "pygments_lexer": "ipython3",
   "version": "3.9.16"
  }
 },
 "nbformat": 4,
 "nbformat_minor": 2
}
