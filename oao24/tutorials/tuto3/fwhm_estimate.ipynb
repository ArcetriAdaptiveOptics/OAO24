{
 "cells": [
  {
   "cell_type": "code",
   "execution_count": null,
   "metadata": {},
   "outputs": [],
   "source": [
    "!pip install git+https://github.com/ArcetriAdaptiveOptics/OAO24.git"
   ]
  },
  {
   "cell_type": "code",
   "execution_count": null,
   "metadata": {},
   "outputs": [],
   "source": [
    "import numpy as np\n",
    "import matplotlib.pyplot as plt\n",
    "from oao24.package_data import InfraredExampleData\n",
    "from oao24 import image_processing"
   ]
  },
  {
   "cell_type": "code",
   "execution_count": null,
   "metadata": {},
   "outputs": [],
   "source": [
    "background_image = InfraredExampleData.get_camera_dark_data()\n",
    "cl_raw_image_cube = InfraredExampleData.get_close_loop_data_cube()\n",
    "    \n",
    "ao_image = image_processing.make_master_image(cl_raw_image_cube, background_image)"
   ]
  }
 ],
 "metadata": {
  "language_info": {
   "name": "python"
  }
 },
 "nbformat": 4,
 "nbformat_minor": 2
}
