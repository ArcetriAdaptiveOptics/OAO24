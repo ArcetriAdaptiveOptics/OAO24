{
 "cells": [
  {
   "cell_type": "markdown",
   "metadata": {},
   "source": [
    "# 3. AO Performance Estimation: Strehl ratio\n",
    "\n",
    "## 3.1 Introduction\n",
    "\n",
    "Various merit functions are used to quantify the performance of an optical instrument, but in AO the Strehl ratio is the most commonly used.\n",
    "\n",
    "It provides a measure of how the AO system is capable to compensate for atmospheric turbulence.\n",
    "\n",
    "The Strehl ratio is defined as the ratio of the peak intensity of the observed point spread function (PSF) to the peak intensity of the ideal diffraction-limited PSF.\n",
    "\n",
    "$$\n",
    "\\text{SR}\\sim e^{-\\sigma^2} =\\frac{\\text{I}^{peak}_{meas}}{\\text{I}^{peak}_{dl}}\n",
    "$$\n",
    "\n",
    "A Strehl ratio of 1 indicates a perfect correction at diffraction limint, while lower values reflect increasing degradation due to optical aberrations or incomplete AO correction.   \n",
    "\n",
    "In this section we want to estimete the SR of the closed-loop psf on *Beta Pegasi*.  We remaind that the data has been collected with PAPYRUS NIR imager camera [C-RED3](https://andor.oxinst.com/products/c-red-series/c-red-3) camera.\n",
    "\n",
    "Let's start by loading the needed modules and quickly the reduced the closed loop PSF image from the observations."
   ]
  },
  {
   "cell_type": "code",
   "execution_count": null,
   "metadata": {},
   "outputs": [],
   "source": [
    "!pip uninstall -y oao24\n",
    "!pip install git+https://github.com/ArcetriAdaptiveOptics/OAO24.git"
   ]
  },
  {
   "cell_type": "code",
   "execution_count": 2,
   "metadata": {},
   "outputs": [],
   "source": [
    "import numpy as np\n",
    "import matplotlib.pyplot as plt\n",
    "from oao24.package_data import InfraredExampleData, VisibleExampleData\n",
    "from oao24 import image_processing"
   ]
  },
  {
   "cell_type": "code",
   "execution_count": null,
   "metadata": {},
   "outputs": [],
   "source": [
    "# backgroud reduction of closed-loop psf data\n",
    "background_image = InfraredExampleData.get_camera_dark_data()\n",
    "cl_raw_image_cube = InfraredExampleData.get_close_loop_data_cube()\n",
    "ao_image = image_processing.make_master_image(cl_raw_image_cube, background_image)"
   ]
  },
  {
   "cell_type": "markdown",
   "metadata": {},
   "source": [
    "Lets define the telescope and camera parameters that will be used in the following analysis, and select the region of interest."
   ]
  },
  {
   "cell_type": "code",
   "execution_count": null,
   "metadata": {},
   "outputs": [],
   "source": [
    "## defining pixel scale and diffraction limited resolution\n",
    "RAD2ARCSEC=180/np.pi*3600\n",
    "pupil_diameter = 1.52 \n",
    "wavelength = 1.65e-6 # 1310e-9\n",
    "# Plate scale is typically saved in the FITS image header\n",
    "# or it can be calibrated using 2 sources of known distance\n",
    "# Here we use the Papyrus nominal optical design values\n",
    "# F/# = 23\n",
    "# The DL PSF size in m on the focal is F/H * wavelength\n",
    "cred3_pixel_in_meter = 15e-6\n",
    "f_number =  23\n",
    "telescope_focal_length = f_number * pupil_diameter\n",
    "# so the size of the pixel in arcsec is \n",
    "pixel_scale_in_arcsec =cred3_pixel_in_meter / telescope_focal_length * RAD2ARCSEC \n",
    "\n",
    "# the DL size (=lambda/D) in units of arcsec or pixels are therefore\n",
    "dl_size_in_arcsec = wavelength / pupil_diameter * RAD2ARCSEC \n",
    "dl_size_in_pixels = dl_size_in_arcsec / pixel_scale_in_arcsec\n",
    "\n",
    "print(\"C-Red3 pixel scale: %g arcsec/pixel\" % pixel_scale_in_arcsec)\n",
    "print(\"DL PSF size: %g arcsec\" % dl_size_in_arcsec)\n",
    "print(\"DL PSF size: %g pixels\" % dl_size_in_pixels)\n"
   ]
  },
  {
   "cell_type": "code",
   "execution_count": 5,
   "metadata": {},
   "outputs": [],
   "source": [
    "## Selecting a ROI\n",
    "star_roi = ao_image[240:296, 335:391]\n",
    "star_roi_cut_index = (29, slice(15, 45))"
   ]
  },
  {
   "cell_type": "markdown",
   "metadata": {},
   "source": [
    "## 3.2 Diffraction limited PSF from pupil mask\n",
    "\n",
    "to estimet the SR we need to compute the expected diffraction limited PSF.\n",
    "To do so, we want to create a pupil mask tat represtent the pupil telescope.\n"
   ]
  },
  {
   "cell_type": "code",
   "execution_count": null,
   "metadata": {},
   "outputs": [],
   "source": [
    "from oao24.mask import AnnularMask\n",
    "\n",
    "def compute_psf_dl(Npix, obs_radius_in_pix, wavelength, pupil_diameter, pixel_scale_in_arcsec):\n",
    "    pupil = np.zeros((Npix,Npix))\n",
    "    pupil_radius_in_pix = Npix/2\n",
    "    \n",
    "\n",
    "    pupil_mask_obj = AnnularMask(\n",
    "        frameShape=pupil.shape,\n",
    "        maskRadius=pupil_radius_in_pix,\n",
    "        inRadius=obs_radius_in_pix)\n",
    "\n",
    "    pupil_mask = pupil_mask_obj.mask()\n",
    "    phase = np.ma.array(pupil, mask = pupil_mask)\n",
    "\n",
    "    # computing transmitted electric field\n",
    "    Ut = 1 * np.exp(1j * phase)\n",
    "    Ut.fill_value = 0\n",
    "    Ut.data[Ut.mask == True] = 0\n",
    "\n",
    "    # padding transmitted electric field to match resulting px scale with the instrument pixel scale\n",
    "    Npad = wavelength / pupil_diameter  * RAD2ARCSEC /  pixel_scale_in_arcsec\n",
    "    print(\"Pupil padding %g\" % Npad)\n",
    "    padded_frame_size = int(np.round(Npix * Npad))\n",
    "    padded_Ut = np.zeros((padded_frame_size, padded_frame_size), dtype=complex)\n",
    "    padded_Ut[0 : Ut.shape[0], 0 : Ut.shape[1]] = Ut   \n",
    "\n",
    "    plt.figure()\n",
    "    plt.imshow(np.abs(padded_Ut))\n",
    "    plt.colorbar()\n",
    "\n",
    "\n",
    "    #computing psf\n",
    "    dl_psf = np.abs(np.fft.fftshift(np.fft.fft2(padded_Ut)))**2\n",
    "    plt.figure()\n",
    "    plt.imshow(dl_psf)\n",
    "    plt.colorbar()\n",
    "\n",
    "    dl_psf_scale_in_arcsec = wavelength / pupil_diameter / Npad * RAD2ARCSEC\n",
    "\n",
    "    return dl_psf, dl_psf_scale_in_arcsec\n"
   ]
  },
  {
   "cell_type": "code",
   "execution_count": null,
   "metadata": {},
   "outputs": [],
   "source": [
    "\n",
    "Npix = 200\n",
    "pupil_radius_in_pix = Npix/2\n",
    "obstruction_radius_in_pix = 0.33*pupil_radius_in_pix\n",
    "dl_psf, dl_psf_scale_in_arcsec = compute_psf_dl(Npix, obstruction_radius_in_pix, wavelength, pupil_diameter, pixel_scale_in_arcsec)\n",
    "print(\"Computed DL PSF scale %g\" % dl_psf_scale_in_arcsec)\n",
    "\n",
    "\n",
    "total_dl_flux = dl_psf.sum()\n",
    "total_meas_flux = star_roi.sum()\n",
    "dl_psf_norm = dl_psf * total_meas_flux/total_dl_flux\n",
    "cc=(dl_psf_norm.shape[0]) // 2\n",
    "dl_psf_norm_roi = dl_psf_norm[cc-28:cc+28, cc-28:cc+28]\n",
    "\n",
    "plt.figure()\n",
    "plt.imshow(np.log10(dl_psf_norm_roi))\n",
    "plt.colorbar()\n",
    "plt.figure()\n",
    "plt.imshow(np.log10(np.clip(star_roi,0,None)+1))\n",
    "plt.colorbar()\n",
    "\n",
    "print(\"Max(DL PSF normalized) %g\" % dl_psf_norm_roi.max())\n",
    "print(\"Max(Measured PSF) %g\" % star_roi.max())\n",
    "strehl_ratio = star_roi.max() / dl_psf_norm_roi.max()\n",
    "print(\"SR: %g\" % strehl_ratio)\n",
    "\n",
    "\n",
    "plt.figure()\n",
    "plt.plot(dl_psf_norm_roi[28,:], label='DL PSF')\n",
    "plt.plot(star_roi[29,:], label='Measured PSF')\n",
    "plt.legend()\n"
   ]
  },
  {
   "cell_type": "markdown",
   "metadata": {},
   "source": [
    "Several limitation in this approach\n",
    "1. center of star roi\n",
    "1. background subtraction is very important\n",
    "1. ...."
   ]
  }
 ],
 "metadata": {
  "kernelspec": {
   "display_name": "oao24",
   "language": "python",
   "name": "python3"
  },
  "language_info": {
   "codemirror_mode": {
    "name": "ipython",
    "version": 3
   },
   "file_extension": ".py",
   "mimetype": "text/x-python",
   "name": "python",
   "nbconvert_exporter": "python",
   "pygments_lexer": "ipython3",
   "version": "3.9.16"
  }
 },
 "nbformat": 4,
 "nbformat_minor": 2
}
