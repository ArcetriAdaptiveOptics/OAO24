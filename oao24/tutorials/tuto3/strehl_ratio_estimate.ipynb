{
 "cells": [
  {
   "cell_type": "code",
   "execution_count": null,
   "metadata": {},
   "outputs": [],
   "source": [
    "!pip uninstall -y oao24\n",
    "!pip install git+https://github.com/ArcetriAdaptiveOptics/OAO24.git"
   ]
  },
  {
   "cell_type": "code",
   "execution_count": 2,
   "metadata": {},
   "outputs": [],
   "source": [
    "import numpy as np\n",
    "import matplotlib.pyplot as plt\n",
    "from astropy.modeling import models, fitting\n",
    "from oao24.package_data import InfraredExampleData, VisibleExampleData\n",
    "from oao24 import image_processing"
   ]
  },
  {
   "cell_type": "code",
   "execution_count": null,
   "metadata": {},
   "outputs": [],
   "source": [
    "background_image = InfraredExampleData.get_camera_dark_data()\n",
    "cl_raw_image_cube = InfraredExampleData.get_close_loop_data_cube()\n",
    "ao_image = image_processing.make_master_image(cl_raw_image_cube, background_image)"
   ]
  },
  {
   "cell_type": "code",
   "execution_count": null,
   "metadata": {},
   "outputs": [],
   "source": [
    "\n",
    "RAD2ARCSEC=180/np.pi*3600\n",
    "pupil_diameter = 1.52 \n",
    "wavelength = 1.65e-6 # 1310e-9\n",
    "# Plate scale is typically saved in the FITS image header\n",
    "# or it can be calibrated using 2 sources of known distance\n",
    "# Here we use the Papyrus nominal optical design values\n",
    "# F/# = 23\n",
    "# The DL PSF size in m on the focal is F/H * wavelength\n",
    "cred3_pixel_in_meter = 15e-6\n",
    "f_number =  23\n",
    "telescope_focal_length = f_number * pupil_diameter\n",
    "# so the size of the pixel in arcsec is \n",
    "pixel_scale_in_arcsec =cred3_pixel_in_meter / telescope_focal_length * RAD2ARCSEC \n",
    "\n",
    "# the DL size (=lambda/D) in units of arcsec or pixels are therefore\n",
    "dl_size_in_arcsec = wavelength / pupil_diameter * RAD2ARCSEC \n",
    "dl_size_in_pixels = dl_size_in_arcsec / pixel_scale_in_arcsec\n",
    "\n",
    "print(\"C-Red3 pixel scale: %g arcsec/pixel\" % pixel_scale_in_arcsec)\n",
    "print(\"DL PSF size: %g arcsec\" % dl_size_in_arcsec)\n",
    "print(\"DL PSF size: %g pixels\" % dl_size_in_pixels)\n",
    "\n",
    "star_roi = ao_image[240:296, 335:391]\n",
    "star_roi_cut_index = (29, slice(15, 45))"
   ]
  },
  {
   "cell_type": "code",
   "execution_count": null,
   "metadata": {},
   "outputs": [],
   "source": [
    "\n",
    "#SR estimation assuming a gaussaian model\n",
    "amp = star_roi.max()\n",
    "x0 = np.where(star_roi == star_roi.max())[1][0]\n",
    "y0 = np.where(star_roi == star_roi.max())[0][0]\n",
    "sigma_x = 2.5/(2*np.sqrt(2*np.log(2)))\n",
    "sigma_y = sigma_x\n",
    "model_gauss = models.Gaussian2D(amp, x0, y0, sigma_x, sigma_y)\n",
    "fitter = fitting.LevMarLSQFitter()\n",
    "roi_shape = star_roi.shape\n",
    "y, x = np.mgrid[:roi_shape[0], :roi_shape[1]]\n",
    "best_fit_gauss = fitter(model_gauss, x, y, z = star_roi)\n",
    "psf_residual_gauss= best_fit_gauss(x,y)-star_roi\n"
   ]
  },
  {
   "cell_type": "code",
   "execution_count": 11,
   "metadata": {},
   "outputs": [],
   "source": [
    "\n",
    "Ntot = star_roi.sum()\n",
    "\n",
    "alpha = np.pi/(f_number*wavelength)*15e-6\n",
    "amp_dl  = 3 *alpha* Ntot / 32\n",
    "sr = best_fit_gauss.parameters[0]/amp_dl\n",
    "#computing SR from fft of pupil\n"
   ]
  },
  {
   "cell_type": "code",
   "execution_count": 12,
   "metadata": {},
   "outputs": [
    {
     "ename": "ModuleNotFoundError",
     "evalue": "No module named 'arte'",
     "output_type": "error",
     "traceback": [
      "\u001b[0;31m---------------------------------------------------------------------------\u001b[0m",
      "\u001b[0;31mModuleNotFoundError\u001b[0m                       Traceback (most recent call last)",
      "Cell \u001b[0;32mIn[12], line 1\u001b[0m\n\u001b[0;32m----> 1\u001b[0m \u001b[38;5;28;01mfrom\u001b[39;00m \u001b[38;5;21;01marte\u001b[39;00m\u001b[38;5;21;01m.\u001b[39;00m\u001b[38;5;21;01mtypes\u001b[39;00m\u001b[38;5;21;01m.\u001b[39;00m\u001b[38;5;21;01mmask\u001b[39;00m \u001b[38;5;28;01mimport\u001b[39;00m AnnularMask\n\u001b[1;32m      3\u001b[0m Npix \u001b[38;5;241m=\u001b[39m \u001b[38;5;241m200\u001b[39m\n\u001b[1;32m      4\u001b[0m pupil \u001b[38;5;241m=\u001b[39m np\u001b[38;5;241m.\u001b[39mzeros((Npix,Npix))\n",
      "\u001b[0;31mModuleNotFoundError\u001b[0m: No module named 'arte'"
     ]
    }
   ],
   "source": [
    "\n",
    "from oao24.mask import AnnularMask\n",
    "\n",
    "Npix = 200\n",
    "pupil = np.zeros((Npix,Npix))\n",
    "pupil_radius_in_pix = 76\n",
    "pupil_center = (99,99)\n",
    "obs_radius_in_pix = int(np.round(0.33*pupil_radius_in_pix))\n",
    "\n",
    "pupil_mask_obj = AnnularMask(\n",
    "    frameShape=pupil.shape,\n",
    "    maskRadius=pupil_radius_in_pix,\n",
    "    maskCenter=pupil_center,\n",
    "    inRadius=obs_radius_in_pix)\n",
    "\n",
    "pupil_mask = pupil_mask_obj.asTransmissionValue()\n",
    "\n",
    "phase = np.ma.array(pupil, mask = pupil_mask)\n",
    "\n",
    "#computing transmitted electric field\n",
    "Ut = 1 * np.exp(1j * phase)\n",
    "\n",
    "Ut.fill_value = 0\n",
    "Ut.data[Ut.mask == True] = 0\n",
    "\n",
    "#padding transmitted electric field\n",
    "Npad = 5\n",
    "padded_frame_size = int(np.round(np.max(phase.shape) * Npad))\n",
    "padded_Ut = np.zeros((padded_frame_size, padded_frame_size), dtype=complex)\n",
    "padded_Ut[0 : Ut.shape[0], 0 : Ut.shape[1]] = Ut   \n",
    "\n",
    "#computing angular frequencies\n",
    "dxi = 0.5*Dtel/pupil_radius_in_pix\n",
    "deta = dxi \n",
    "\n",
    "#in rad\n",
    "x = np.fft.fftshift(np.fft.fftfreq(padded_Ut.shape[1], dxi)) * wl \n",
    "y = np.fft.fftshift(np.fft.fftfreq(padded_Ut.shape[0], deta)) * wl\n",
    "\n",
    "\n",
    "#computing psf\n",
    "dl_psf = np.abs(np.fft.fftshift(np.fft.fft2(padded_Ut)))**2\n",
    "\n",
    "total_dl_flux = dl_psf.sum()\n",
    "total_meas_flux = star_roi.sum()\n",
    "\n",
    "dl_psf_norm = dl_psf * total_meas_flux/total_dl_flux\n",
    "\n",
    "from scipy.ndimage import zoom\n",
    "\n",
    "pix_scale_dl_in_rad = x[-1]-x[-2]\n",
    "pix_scale_meas_in_rad = (wl/Dtel)/3.6\n",
    "\n",
    "scale_factor = pix_scale_meas_in_rad/pix_scale_dl_in_rad\n",
    "measured_shape = star_roi.shape\n",
    "\n",
    "dl_shape = dl_psf_norm.shape\n",
    "\n",
    "zoom_factors = (measured_shape[0] / dl_shape[0] *scale_factor,\n",
    "                measured_shape[1] / dl_shape[1] *scale_factor)\n",
    "dl_psf_rebinned = zoom(dl_psf_norm, zoom_factors)\n",
    "\n",
    "\n",
    "\n",
    "#assert dl_psf_rebinned.shape == star_roi.shape, \"Rebinning failed, shapes do not match\"\n",
    "\n",
    "# def rebin(arr, new_shape):\n",
    "#     \"\"\"\n",
    "#     Rebin the array `arr` into a new shape `new_shape`.\n",
    "#     This function works by averaging blocks of pixels.\n",
    "#     \"\"\"\n",
    "#     # Compute the shape of the input array\n",
    "#     old_shape = arr.shape\n",
    "#\n",
    "#     if old_shape[0] % new_shape[0] != 0 or old_shape[1] % new_shape[1] != 0:\n",
    "#         raise ValueError(\"Cannot rebin: dimensions are not compatible.\")\n",
    "#     # Calculate the shape of the re-binned array\n",
    "#     sh = (old_shape[0] // new_shape[0], new_shape[0],\n",
    "#           old_shape[1] // new_shape[1], new_shape[1])\n",
    "#     # Use reshaping and averaging\n",
    "#     return arr.reshape(sh).mean(axis=(1, 3))\n",
    "#\n",
    "# # Rebin the normalized DL PSF to match star_roi shape\n",
    "# dl_psf_rebinned = rebin(dl_psf_norm, star_roi.shape)\n",
    "\n",
    "\n",
    "sr = best_fit_gauss.parameters[0]/dl_psf_rebinned.max()\n",
    "return sr, phase, dl_psf_norm, x, dl_psf_rebinned, star_roi"
   ]
  }
 ],
 "metadata": {
  "kernelspec": {
   "display_name": "oao24",
   "language": "python",
   "name": "python3"
  },
  "language_info": {
   "codemirror_mode": {
    "name": "ipython",
    "version": 3
   },
   "file_extension": ".py",
   "mimetype": "text/x-python",
   "name": "python",
   "nbconvert_exporter": "python",
   "pygments_lexer": "ipython3",
   "version": "3.12.5"
  }
 },
 "nbformat": 4,
 "nbformat_minor": 2
}
