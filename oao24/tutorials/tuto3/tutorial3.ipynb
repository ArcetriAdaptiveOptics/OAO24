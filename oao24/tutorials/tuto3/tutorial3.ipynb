{
 "cells": [
  {
   "cell_type": "markdown",
   "metadata": {},
   "source": [
    "## Image processing\n",
    "Some text explaining image processing"
   ]
  },
  {
   "cell_type": "code",
   "execution_count": null,
   "metadata": {},
   "outputs": [],
   "source": [
    "import numpy as np \n",
    "import matplotlib.pyplot as plt\n",
    "\n",
    "def test_plot():\n",
    "    plt.plot(np.arange(10), '.-')\n",
    "    \n",
    "test_plot()"
   ]
  },
  {
   "cell_type": "code",
   "execution_count": null,
   "metadata": {},
   "outputs": [],
   "source": [
    "\n",
    "!pip install git+https://github.com/ArcetriAdaptiveOptics/OAO24.git\n",
    "from oao24 import package_data\n",
    "dark_image = np.load(package_data.tuto3_folder() / \"ID_110.npy\")\n",
    "open_loop_image = np.load(package_data.tuto3_folder() / \"ID_105.npy\")"
   ]
  },
  {
   "cell_type": "code",
   "execution_count": null,
   "metadata": {},
   "outputs": [],
   "source": [
    "seeing_limited_ima = open_loop_image-dark_image\n",
    "ima = np.clip(seeing_limited_ima, 0, np.inf)\n",
    "plt.imshow(ima)\n",
    "plt.colorbar()"
   ]
  }
 ],
 "metadata": {
  "kernelspec": {
   "display_name": "trash",
   "language": "python",
   "name": "python3"
  },
  "language_info": {
   "codemirror_mode": {
    "name": "ipython",
    "version": 3
   },
   "file_extension": ".py",
   "mimetype": "text/x-python",
   "name": "python",
   "nbconvert_exporter": "python",
   "pygments_lexer": "ipython3",
   "version": "3.11.5"
  }
 },
 "nbformat": 4,
 "nbformat_minor": 2
}
