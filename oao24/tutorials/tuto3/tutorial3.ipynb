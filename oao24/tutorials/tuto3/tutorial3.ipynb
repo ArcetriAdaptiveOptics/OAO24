{
 "cells": [
  {
   "cell_type": "markdown",
   "metadata": {},
   "source": [
    "## Image processing\n",
    "Some text explaining image processing"
   ]
  },
  {
   "cell_type": "code",
   "execution_count": null,
   "metadata": {},
   "outputs": [],
   "source": [
    "import numpy as np \n",
    "import matplotlib.pyplot as plt\n",
    "\n",
    "def test_plot():\n",
    "    plt.plot(np.arange(10), '.-')\n",
    "    \n",
    "test_plot()"
   ]
  },
  {
   "cell_type": "code",
   "execution_count": null,
   "metadata": {},
   "outputs": [],
   "source": [
    "!pip install git+https://github.com/ArcetriAdaptiveOptics/OAO24.git\n",
    "from oao24 import package_data\n",
    "\n",
    "dark_image = np.load(package_data.tuto3_folder() / \"ID_110.npy\")\n",
    "open_loop_image = np.load(package_data.tuto3_folder() / \"ID_105.npy\")"
   ]
  },
  {
   "cell_type": "code",
   "execution_count": null,
   "metadata": {},
   "outputs": [],
   "source": [
    "seeing_limited_ima = open_loop_image-dark_image\n",
    "ima = np.clip(seeing_limited_ima, 0, np.inf)\n",
    "plt.imshow(ima)\n",
    "plt.colorbar()"
   ]
  },
  {
   "cell_type": "markdown",
   "metadata": {},
   "source": [
    "## Tutorial 3 for Deconvolution\n",
    "1. Create an image with objects and PSFs provided\n",
    "   1. Objects: Vesta, Ganymede (to be determined) \n",
    "   2. PSFs: Papyrus-liked PSFs \n",
    "2. Using Wiener Filtering to deconvolve an image \n",
    "   1. Equations for the noise estimation will be provided in the notebook \n",
    "   2. Same with the wiener filtering equation but it is expected to create the function for wiener filtering function by themselves\n",
    "3. MAP \n",
    "   1. Gradient descent method with regularisation\n",
    "   2. Equation will be introduced in the class \n",
    "   3. Function will be provided in the notebook \n",
    "\n",
    "Tasks: \n",
    "1. Impact of S/N on deconvolution \n",
    "2. Impact of PSFs accuracy on deconvolution \n"
   ]
  },
  {
   "cell_type": "markdown",
   "metadata": {},
   "source": [
    "Before starting to work on deconvolution, first of all we need to understand how is an image formed.\n",
    "\n",
    "\\begin{equation}\n",
    "I = H*O+N, \n",
    "\\end{equation}\n",
    "\n",
    "where $I$ is the image, $H$ is the PSF, $O$ is the object and $N$ is the noise.\n"
   ]
  },
  {
   "cell_type": "markdown",
   "metadata": {},
   "source": [
    "Maximum A Posteriori #TODO add more descirption and equations"
   ]
  },
  {
   "cell_type": "code",
   "execution_count": null,
   "metadata": {},
   "outputs": [],
   "source": [
    "#%% MAXIMUM A POSTERIORI (with minimisation algorithm)\n",
    "class MAPcriterion:\n",
    "    def __init__(self, image, psf, weights):\n",
    "        self.iteration = 0\n",
    "        self.criterion = 0\n",
    "        self.image = image\n",
    "        self.otf = fft2(psf)\n",
    "        self.weights = weights\n",
    "        image_less_noisy = gaussian_filter(image, 1)\n",
    "        self.norma = regularization_quadratic(image_less_noisy)[0]/image.size\n",
    "        self.norma *= 100 # tune hyper-parameter (empirical)\n",
    "        \n",
    "    def __call__(self, obj_flat):\n",
    "        obj = np.reshape(obj_flat, self.otf.shape)\n",
    "        obj_tf = fft2(obj)\n",
    "        likeli,likeli_g = likelihood(self.image, obj_tf, self.otf, self.weights)\n",
    "        regul,regul_g = regularization_quadratic(obj)\n",
    "        map_fun = likeli + regul/self.norma\n",
    "        map_grad = likeli_g + regul_g/self.norma\n",
    "        self.criterion = map_fun\n",
    "        return map_fun, map_grad.flatten()\n",
    "    \n",
    "    def callback(self, obj_flat):\n",
    "        self.iteration += 1\n",
    "        print('[%2u] %5.8g'%(self.iteration,self.criterion))"
   ]
  }
 ],
 "metadata": {
  "kernelspec": {
   "display_name": "trash",
   "language": "python",
   "name": "python3"
  },
  "language_info": {
   "codemirror_mode": {
    "name": "ipython",
    "version": 3
   },
   "file_extension": ".py",
   "mimetype": "text/x-python",
   "name": "python",
   "nbconvert_exporter": "python",
   "pygments_lexer": "ipython3",
   "version": "3.11.5"
  }
 },
 "nbformat": 4,
 "nbformat_minor": 2
}
