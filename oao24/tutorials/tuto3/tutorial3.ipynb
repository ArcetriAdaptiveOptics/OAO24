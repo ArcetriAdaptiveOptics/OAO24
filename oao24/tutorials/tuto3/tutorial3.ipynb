{
 "cells": [
  {
   "cell_type": "markdown",
   "metadata": {},
   "source": [
    "## Test\n",
    "asdasdf"
   ]
  },
  {
   "cell_type": "code",
   "execution_count": 4,
   "metadata": {},
   "outputs": [
    {
     "ename": "AttributeError",
     "evalue": "module 'numpy' has no attribute 'plot'",
     "output_type": "error",
     "traceback": [
      "\u001b[0;31m---------------------------------------------------------------------------\u001b[0m",
      "\u001b[0;31mAttributeError\u001b[0m                            Traceback (most recent call last)",
      "Cell \u001b[0;32mIn[4], line 6\u001b[0m\n\u001b[1;32m      3\u001b[0m \u001b[38;5;28;01mdef\u001b[39;00m \u001b[38;5;21mpippo\u001b[39m():\n\u001b[1;32m      4\u001b[0m     np\u001b[38;5;241m.\u001b[39mplot(np\u001b[38;5;241m.\u001b[39marange(\u001b[38;5;241m10\u001b[39m), \u001b[38;5;124m'\u001b[39m\u001b[38;5;124m.-\u001b[39m\u001b[38;5;124m'\u001b[39m)\n\u001b[0;32m----> 6\u001b[0m pippo()\n",
      "Cell \u001b[0;32mIn[4], line 4\u001b[0m, in \u001b[0;36mpippo\u001b[0;34m()\u001b[0m\n\u001b[1;32m      3\u001b[0m \u001b[38;5;28;01mdef\u001b[39;00m \u001b[38;5;21mpippo\u001b[39m():\n\u001b[0;32m----> 4\u001b[0m     np\u001b[38;5;241m.\u001b[39mplot(np\u001b[38;5;241m.\u001b[39marange(\u001b[38;5;241m10\u001b[39m), \u001b[38;5;124m'\u001b[39m\u001b[38;5;124m.-\u001b[39m\u001b[38;5;124m'\u001b[39m)\n",
      "File \u001b[0;32m~/opt/anaconda3/envs/trash/lib/python3.11/site-packages/numpy/__init__.py:320\u001b[0m, in \u001b[0;36m__getattr__\u001b[0;34m(attr)\u001b[0m\n\u001b[1;32m    317\u001b[0m     \u001b[38;5;28;01mfrom\u001b[39;00m \u001b[38;5;21;01m.\u001b[39;00m\u001b[38;5;21;01mtesting\u001b[39;00m \u001b[38;5;28;01mimport\u001b[39;00m Tester\n\u001b[1;32m    318\u001b[0m     \u001b[38;5;28;01mreturn\u001b[39;00m Tester\n\u001b[0;32m--> 320\u001b[0m \u001b[38;5;28;01mraise\u001b[39;00m \u001b[38;5;167;01mAttributeError\u001b[39;00m(\u001b[38;5;124m\"\u001b[39m\u001b[38;5;124mmodule \u001b[39m\u001b[38;5;132;01m{!r}\u001b[39;00m\u001b[38;5;124m has no attribute \u001b[39m\u001b[38;5;124m\"\u001b[39m\n\u001b[1;32m    321\u001b[0m                      \u001b[38;5;124m\"\u001b[39m\u001b[38;5;132;01m{!r}\u001b[39;00m\u001b[38;5;124m\"\u001b[39m\u001b[38;5;241m.\u001b[39mformat(\u001b[38;5;18m__name__\u001b[39m, attr))\n",
      "\u001b[0;31mAttributeError\u001b[0m: module 'numpy' has no attribute 'plot'"
     ]
    }
   ],
   "source": [
    "import numpy as np \n",
    "import matplotlib.pyplot as plt\n",
    "\n",
    "def pippo():\n",
    "    plt.plot(np.arange(10), '.-')\n",
    "    \n",
    "pippo()"
   ]
  },
  {
   "cell_type": "code",
   "execution_count": 3,
   "metadata": {},
   "outputs": [
    {
     "name": "stdout",
     "output_type": "stream",
     "text": [
      "Collecting git+https://github.com/ArcetriAdaptiveOptics/OAO24.git\n",
      "  Cloning https://github.com/ArcetriAdaptiveOptics/OAO24.git to /private/var/folders/yy/y6mh4b390sj24kqkcp9nl2c40000gp/T/pip-req-build-s48o78iq\n",
      "  Running command git clone --filter=blob:none --quiet https://github.com/ArcetriAdaptiveOptics/OAO24.git /private/var/folders/yy/y6mh4b390sj24kqkcp9nl2c40000gp/T/pip-req-build-s48o78iq\n",
      "  Resolved https://github.com/ArcetriAdaptiveOptics/OAO24.git to commit 73d7ec4d497dbe08e9ead19c51cf2c1e9b56c76b\n",
      "  Preparing metadata (setup.py) ... \u001b[?25ldone\n",
      "\u001b[?25hRequirement already satisfied: numpy in /Users/lbusoni/opt/anaconda3/envs/trash/lib/python3.11/site-packages (from oao24==0.1) (1.24.3)\n",
      "Requirement already satisfied: astropy in /Users/lbusoni/opt/anaconda3/envs/trash/lib/python3.11/site-packages (from oao24==0.1) (5.3.1)\n",
      "Requirement already satisfied: pyerfa>=2.0 in /Users/lbusoni/opt/anaconda3/envs/trash/lib/python3.11/site-packages (from astropy->oao24==0.1) (2.0.0.3)\n",
      "Requirement already satisfied: PyYAML>=3.13 in /Users/lbusoni/opt/anaconda3/envs/trash/lib/python3.11/site-packages (from astropy->oao24==0.1) (6.0.1)\n",
      "Requirement already satisfied: packaging>=19.0 in /Users/lbusoni/opt/anaconda3/envs/trash/lib/python3.11/site-packages (from astropy->oao24==0.1) (23.1)\n",
      "Building wheels for collected packages: oao24\n",
      "  Building wheel for oao24 (setup.py) ... \u001b[?25ldone\n",
      "\u001b[?25h  Created wheel for oao24: filename=oao24-0.1-py3-none-any.whl size=2503 sha256=23226bb8c1d5f9e20a97dacfdf59ab9c3ccb668139270386870dac2ad94bacbf\n",
      "  Stored in directory: /private/var/folders/yy/y6mh4b390sj24kqkcp9nl2c40000gp/T/pip-ephem-wheel-cache-v0nemcub/wheels/d7/1c/1a/b24c8e75f080afbcea51969754f3ae16302b3bf76a5b731cb3\n",
      "Successfully built oao24\n",
      "Installing collected packages: oao24\n",
      "  Attempting uninstall: oao24\n",
      "    Found existing installation: oao24 0.1\n",
      "    Uninstalling oao24-0.1:\n",
      "      Successfully uninstalled oao24-0.1\n",
      "Successfully installed oao24-0.1\n"
     ]
    },
    {
     "ename": "NameError",
     "evalue": "name 'np' is not defined",
     "output_type": "error",
     "traceback": [
      "\u001b[0;31m---------------------------------------------------------------------------\u001b[0m",
      "\u001b[0;31mNameError\u001b[0m                                 Traceback (most recent call last)",
      "Cell \u001b[0;32mIn[3], line 3\u001b[0m\n\u001b[1;32m      1\u001b[0m get_ipython()\u001b[38;5;241m.\u001b[39msystem(\u001b[38;5;124m'\u001b[39m\u001b[38;5;124mpip install git+https://github.com/ArcetriAdaptiveOptics/OAO24.git\u001b[39m\u001b[38;5;124m'\u001b[39m)\n\u001b[1;32m      2\u001b[0m \u001b[38;5;28;01mfrom\u001b[39;00m \u001b[38;5;21;01moao24\u001b[39;00m \u001b[38;5;28;01mimport\u001b[39;00m package_data\n\u001b[0;32m----> 3\u001b[0m dark_image \u001b[38;5;241m=\u001b[39m np\u001b[38;5;241m.\u001b[39mload(package_data\u001b[38;5;241m.\u001b[39mtuto3_folder() \u001b[38;5;241m/\u001b[39m \u001b[38;5;124m\"\u001b[39m\u001b[38;5;124mID_110.npy\u001b[39m\u001b[38;5;124m\"\u001b[39m)\n\u001b[1;32m      4\u001b[0m open_loop_image \u001b[38;5;241m=\u001b[39m np\u001b[38;5;241m.\u001b[39mload(package_data\u001b[38;5;241m.\u001b[39mtuto3_folder() \u001b[38;5;241m/\u001b[39m \u001b[38;5;124m\"\u001b[39m\u001b[38;5;124mID_105.npy\u001b[39m\u001b[38;5;124m\"\u001b[39m)\n",
      "\u001b[0;31mNameError\u001b[0m: name 'np' is not defined"
     ]
    }
   ],
   "source": [
    "\n",
    "!pip install git+https://github.com/ArcetriAdaptiveOptics/OAO24.git\n",
    "from oao24 import package_data\n",
    "dark_image = np.load(package_data.tuto3_folder() / \"ID_110.npy\")\n",
    "open_loop_image = np.load(package_data.tuto3_folder() / \"ID_105.npy\")"
   ]
  }
 ],
 "metadata": {
  "kernelspec": {
   "display_name": "trash",
   "language": "python",
   "name": "python3"
  },
  "language_info": {
   "codemirror_mode": {
    "name": "ipython",
    "version": 3
   },
   "file_extension": ".py",
   "mimetype": "text/x-python",
   "name": "python",
   "nbconvert_exporter": "python",
   "pygments_lexer": "ipython3",
   "version": "3.11.5"
  }
 },
 "nbformat": 4,
 "nbformat_minor": 2
}
